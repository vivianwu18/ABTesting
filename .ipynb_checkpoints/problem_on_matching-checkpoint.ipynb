{
 "cells": [
  {
   "cell_type": "code",
   "execution_count": 1,
   "id": "57c13a5e",
   "metadata": {},
   "outputs": [],
   "source": [
    "import pandas as pd\n",
    "import numpy as np"
   ]
  },
  {
   "cell_type": "markdown",
   "id": "672aecab",
   "metadata": {},
   "source": [
    "## Matching for Treatment Effect"
   ]
  },
  {
   "cell_type": "code",
   "execution_count": 2,
   "id": "d510d178",
   "metadata": {},
   "outputs": [
    {
     "data": {
      "text/html": [
       "<div>\n",
       "<style scoped>\n",
       "    .dataframe tbody tr th:only-of-type {\n",
       "        vertical-align: middle;\n",
       "    }\n",
       "\n",
       "    .dataframe tbody tr th {\n",
       "        vertical-align: top;\n",
       "    }\n",
       "\n",
       "    .dataframe thead th {\n",
       "        text-align: right;\n",
       "    }\n",
       "</style>\n",
       "<table border=\"1\" class=\"dataframe\">\n",
       "  <thead>\n",
       "    <tr style=\"text-align: right;\">\n",
       "      <th></th>\n",
       "      <th>treatment</th>\n",
       "      <th>restChain</th>\n",
       "      <th>initEmpl</th>\n",
       "      <th>finalEmpl</th>\n",
       "    </tr>\n",
       "  </thead>\n",
       "  <tbody>\n",
       "    <tr>\n",
       "      <th>0</th>\n",
       "      <td>NJ</td>\n",
       "      <td>BK</td>\n",
       "      <td>22.5</td>\n",
       "      <td>30.0</td>\n",
       "    </tr>\n",
       "    <tr>\n",
       "      <th>1</th>\n",
       "      <td>NJ</td>\n",
       "      <td>KFC</td>\n",
       "      <td>14.0</td>\n",
       "      <td>12.5</td>\n",
       "    </tr>\n",
       "    <tr>\n",
       "      <th>2</th>\n",
       "      <td>PA</td>\n",
       "      <td>KFC</td>\n",
       "      <td>13.8</td>\n",
       "      <td>17.0</td>\n",
       "    </tr>\n",
       "    <tr>\n",
       "      <th>3</th>\n",
       "      <td>PA</td>\n",
       "      <td>BK</td>\n",
       "      <td>26.5</td>\n",
       "      <td>18.5</td>\n",
       "    </tr>\n",
       "    <tr>\n",
       "      <th>4</th>\n",
       "      <td>PA</td>\n",
       "      <td>BK</td>\n",
       "      <td>20.0</td>\n",
       "      <td>19.5</td>\n",
       "    </tr>\n",
       "  </tbody>\n",
       "</table>\n",
       "</div>"
      ],
      "text/plain": [
       "  treatment restChain  initEmpl  finalEmpl\n",
       "0        NJ        BK      22.5       30.0\n",
       "1        NJ       KFC      14.0       12.5\n",
       "2        PA       KFC      13.8       17.0\n",
       "3        PA        BK      26.5       18.5\n",
       "4        PA        BK      20.0       19.5"
      ]
     },
     "execution_count": 2,
     "metadata": {},
     "output_type": "execute_result"
    }
   ],
   "source": [
    "data = {\n",
    "    'treatment' : ['NJ', 'NJ', 'PA', 'PA', 'PA', 'PA', 'PA', 'PA'],\n",
    "    'restChain' : ['BK', 'KFC', 'KFC', 'BK', 'BK', 'BK', 'BK', 'KFC'],\n",
    "    'initEmpl' : [22.5, 14.0, 13.8, 26.5, 20.0, 13.5, 32.5, 21.0],\n",
    "    'finalEmpl' : [30.0, 12.5, 17.0, 18.5, 19.5, 21.0, 26.5, 23.0]\n",
    "}\n",
    "\n",
    "restaurants = pd.DataFrame(data)\n",
    "restaurants.head()"
   ]
  },
  {
   "cell_type": "code",
   "execution_count": 28,
   "id": "2400ccc7",
   "metadata": {},
   "outputs": [],
   "source": [
    "# divide treatment group and control group\n",
    "treatment = restaurants.iloc[0:2, :]\n",
    "control = restaurants.iloc[2:8, :]"
   ]
  },
  {
   "cell_type": "markdown",
   "id": "94e1002a",
   "metadata": {},
   "source": [
    "### Calculate the distance between treatment group and control group"
   ]
  },
  {
   "cell_type": "code",
   "execution_count": 4,
   "id": "bafcb84f",
   "metadata": {},
   "outputs": [],
   "source": [
    "def distance(treatment, control):\n",
    "    match = []\n",
    "    for i in range(len(control)):\n",
    "        if treatment['restChain'] != control['restChain'].iloc[i]:\n",
    "            distance = round(100 + abs(treatment['initEmpl'] - control['initEmpl'].iloc[i]), 1)\n",
    "            match.append(distance)\n",
    "        else:\n",
    "            distance = round(abs(treatment['initEmpl'] - control['initEmpl'].iloc[i]), 1)\n",
    "            match.append(distance)  \n",
    "    return match"
   ]
  },
  {
   "cell_type": "code",
   "execution_count": 23,
   "id": "afc24920",
   "metadata": {},
   "outputs": [
    {
     "name": "stdout",
     "output_type": "stream",
     "text": [
      "Distances measure for treatment1:\n",
      "------------------------------------------------------\n",
      "The distance between treatment1 and control1 is 108.7.\n",
      "The distance between treatment1 and control2 is 4.0.\n",
      "The distance between treatment1 and control3 is 2.5.\n",
      "The distance between treatment1 and control4 is 9.0.\n",
      "The distance between treatment1 and control5 is 10.0.\n",
      "The distance between treatment1 and control6 is 101.5.\n",
      "\n",
      "\n",
      "The minimum distance for treatment1 is control3 : 2.5.\n",
      "\n",
      "\n",
      "Distances measure for treatment2:\n",
      "------------------------------------------------------\n",
      "The distance between treatment2 and control1 is 0.2.\n",
      "The distance between treatment2 and control2 is 112.5.\n",
      "The distance between treatment2 and control3 is 106.0.\n",
      "The distance between treatment2 and control4 is 100.5.\n",
      "The distance between treatment2 and control5 is 118.5.\n",
      "The distance between treatment2 and control6 is 7.0.\n",
      "\n",
      "\n",
      "The minimum distance for treatment2 is control1 : 0.2.\n",
      "\n",
      "\n"
     ]
    }
   ],
   "source": [
    "all_match = []\n",
    "for i in range(len(treatment)):\n",
    "    match = distance(treatment.iloc[i, :], control)\n",
    "    all_match.append(match)\n",
    "for i in range(len(all_match)):\n",
    "    print(f'Distances measure for treatment{i+1}:')\n",
    "    print('------------------------------------------------------')\n",
    "    for j in range(len(all_match[i])):\n",
    "        print(f'The distance between treatment{i+1} and control{j+1} is {all_match[i][j]}.')\n",
    "    print('\\n')\n",
    "    print(f'The minimum distance for treatment{i+1} is control{all_match[i].index(np.min([all_match[i]])) + 1} : {np.min([all_match[i]])}.')\n",
    "    print('\\n')"
   ]
  },
  {
   "cell_type": "markdown",
   "id": "6f5c2c0e",
   "metadata": {},
   "source": [
    "### Calculate Average Treatment Effect of the Treated (ATT)"
   ]
  },
  {
   "cell_type": "code",
   "execution_count": 27,
   "id": "c647fe2d",
   "metadata": {},
   "outputs": [
    {
     "name": "stdout",
     "output_type": "stream",
     "text": [
      "The Average Treatment Effect of the Treated with matching is 6.0.\n"
     ]
    }
   ],
   "source": [
    "ATT = np.mean((treatment1['finalEmpl'] - control['finalEmpl'].iloc[2]) + \n",
    "              (treatment2['finalEmpl'] - control['finalEmpl'].iloc[0]))\n",
    "print(f'The Average Treatment Effect of the Treated with matching is {ATT}.')"
   ]
  },
  {
   "cell_type": "markdown",
   "id": "17393c23",
   "metadata": {},
   "source": [
    "### Calculate Average Treatment Effect (ATE)"
   ]
  },
  {
   "cell_type": "code",
   "execution_count": 29,
   "id": "d4b3154d",
   "metadata": {},
   "outputs": [
    {
     "name": "stdout",
     "output_type": "stream",
     "text": [
      "The Average Treatment Effect with matching is 3.3.\n"
     ]
    }
   ],
   "source": [
    "ATE = round(np.mean(treatment['finalEmpl'] - treatment['initEmpl']) - \n",
    "            np.mean(control['finalEmpl'] - control['initEmpl']), 1)\n",
    "print(f'The Average Treatment Effect with matching is {ATE}.')"
   ]
  },
  {
   "cell_type": "markdown",
   "id": "a184d611",
   "metadata": {},
   "source": [
    "## Summary\n",
    "    1. Without matching: \n",
    "        ATT = ATE = Average(yi-xi2) for treatment group - Average(yi-xi2) for control group\n"
   ]
  },
  {
   "cell_type": "markdown",
   "id": "3b06699e",
   "metadata": {},
   "source": [
    "\\begin{equation}\n",
    "ATT = ATE = Average(y_{ti} - x_{ti2}) - Average(y_{ci} - x_{ci2})\n",
    "\\end{equation}"
   ]
  },
  {
   "cell_type": "markdown",
   "id": "6c5f2909",
   "metadata": {},
   "source": [
    "    2. With matching: \n",
    "        ATT = Average(yi - xi2) for each treatment observation and its matching control observation\n",
    "        ATE = Average(yi-xi2) for treatment group - Average(yti-xi2) for control group"
   ]
  },
  {
   "cell_type": "markdown",
   "id": "dd038687",
   "metadata": {},
   "source": [
    "<center>\n",
    "$ATT$ $=$ $Average(y_{ti} - x_{c_{match}i2})$ <br>\n",
    "$ATE$ $=$ $Average(y_{ti} - x_{ti2}) - Average(y_{ci} - x_{ci2})$\n",
    "</center>"
   ]
  }
 ],
 "metadata": {
  "kernelspec": {
   "display_name": "Python 3 (ipykernel)",
   "language": "python",
   "name": "python3"
  },
  "language_info": {
   "codemirror_mode": {
    "name": "ipython",
    "version": 3
   },
   "file_extension": ".py",
   "mimetype": "text/x-python",
   "name": "python",
   "nbconvert_exporter": "python",
   "pygments_lexer": "ipython3",
   "version": "3.7.16"
  }
 },
 "nbformat": 4,
 "nbformat_minor": 5
}
